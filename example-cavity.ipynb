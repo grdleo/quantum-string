{
 "metadata": {
  "language_info": {
   "codemirror_mode": {
    "name": "ipython",
    "version": 3
   },
   "file_extension": ".py",
   "mimetype": "text/x-python",
   "name": "python",
   "nbconvert_exporter": "python",
   "pygments_lexer": "ipython3",
   "version": "3.8.2"
  },
  "orig_nbformat": 4,
  "kernelspec": {
   "name": "python3",
   "display_name": "Python 3.8.2 64-bit"
  },
  "interpreter": {
   "hash": "eab5617646af697cc970854abaacd424487e47a225bcdad54106239d3bcc5cbd"
  }
 },
 "nbformat": 4,
 "nbformat_minor": 2,
 "cells": [
  {
   "source": [
    "# Cavity"
   ],
   "cell_type": "markdown",
   "metadata": {}
  },
  {
   "cell_type": "code",
   "execution_count": 43,
   "metadata": {},
   "outputs": [],
   "source": [
    "from simulation import Simulation\r\n",
    "from particle import Particle, Particles\r\n",
    "from edge import ExcitatorSin, MirrorEdge, LoopEdge\r\n",
    "from phystring import PhyString\r\n",
    "\r\n",
    "import numpy as np\r\n",
    "from matplotlib import pyplot as plt\r\n",
    "\r\n",
    "import os"
   ]
  },
  {
   "cell_type": "code",
   "execution_count": 44,
   "metadata": {},
   "outputs": [],
   "source": [
    "mypath = \"C:\\\\Users\\\\leog\\\\Desktop\\\\lg2021stage\\\\output\""
   ]
  },
  {
   "cell_type": "code",
   "execution_count": 45,
   "metadata": {},
   "outputs": [],
   "source": [
    "duration = 0.5 # duration of simulation [s]\n",
    "length = 1.0 # [m]\n",
    "tension = 1.0 # [N]\n",
    "density = 0.01 # [kg/m]\n",
    "space_steps = 1024 # string discretisation\n",
    "\n",
    "celerity = np.sqrt(tension/density)\n",
    "\n",
    "dx = length/space_steps\n",
    "dt = dx/celerity\n",
    "time_steps = int(duration/dt)"
   ]
  },
  {
   "cell_type": "code",
   "execution_count": 46,
   "metadata": {},
   "outputs": [],
   "source": [
    "x = np.linspace(0.0, 1.0, space_steps)\n",
    "ic_pos = np.array([0.0]*space_steps)\n",
    "width = 0.25\n",
    "keep = x < width\n",
    "periods = 3\n",
    "notkeep = keep == False\n",
    "ic_pos[keep] = 0.02*np.sin(2*np.pi*x[keep]/width*periods)\n",
    "ic_pos[notkeep] = 0.0\n",
    "ic_pos1 = PhyString.shift_list_right(ic_pos)\n",
    "ic_vel = (ic_pos1 - ic_pos)/dt"
   ]
  },
  {
   "cell_type": "code",
   "execution_count": 47,
   "metadata": {},
   "outputs": [],
   "source": [
    "p = Particle(int(space_steps*0.5), 0.0, 0.01, 0.0, True, space_steps)\n",
    "ps = Particles(space_steps=space_steps)"
   ]
  },
  {
   "cell_type": "code",
   "execution_count": 48,
   "metadata": {},
   "outputs": [
    {
     "output_type": "stream",
     "name": "stdout",
     "text": [
      "[SIMULATION]    Δt=9.765625e-05s, Δx=0.0009765625m, time steps=5120, space steps=1024\n[STRING]    L=1.000m, T=1.000N, rho=0.010kg/m, c=10.000m/s ; 0 particles\n[PARTICLES]    ;\n"
     ]
    }
   ],
   "source": [
    "simu = Simulation(dt, time_steps, space_steps, length, density, tension, LoopEdge(), LoopEdge(), ic_pos, ic_vel, ps)\n",
    "print(simu)"
   ]
  },
  {
   "cell_type": "code",
   "execution_count": 49,
   "metadata": {},
   "outputs": [
    {
     "output_type": "stream",
     "name": "stdout",
     "text": [
      "[SIMULATION]    Δt=9.765625e-05s, Δx=0.0009765625m, time steps=5120, space steps=1024\n",
      "[STRING]    L=1.000m, T=1.000N, rho=0.010kg/m, c=10.000m/s ; 0 particles\n",
      "[PARTICLES]    ;\n",
      "\n",
      "video output creation...\n",
      "video created successfully!\n"
     ]
    }
   ],
   "source": [
    "simu.run(mypath, anim=True, file=False, frameskip=5)"
   ]
  },
  {
   "cell_type": "code",
   "execution_count": null,
   "metadata": {},
   "outputs": [],
   "source": []
  }
 ]
}