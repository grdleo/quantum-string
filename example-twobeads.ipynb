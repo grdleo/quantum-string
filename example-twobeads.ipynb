{
 "metadata": {
  "language_info": {
   "codemirror_mode": {
    "name": "ipython",
    "version": 3
   },
   "file_extension": ".py",
   "mimetype": "text/x-python",
   "name": "python",
   "nbconvert_exporter": "python",
   "pygments_lexer": "ipython3",
   "version": "3.8.2"
  },
  "orig_nbformat": 4,
  "kernelspec": {
   "name": "python3",
   "display_name": "Python 3.8.2 64-bit"
  },
  "interpreter": {
   "hash": "eab5617646af697cc970854abaacd424487e47a225bcdad54106239d3bcc5cbd"
  }
 },
 "nbformat": 4,
 "nbformat_minor": 2,
 "cells": [
  {
   "source": [
    "# Two beads on a string\n",
    "\n",
    "Nous allons dans cet exemple procéder à la démonstration la plus complète de la librairie `quantum-string`"
   ],
   "cell_type": "markdown",
   "metadata": {}
  },
  {
   "source": [
    "On commence par importer les librairies pertinentes"
   ],
   "cell_type": "markdown",
   "metadata": {}
  },
  {
   "cell_type": "code",
   "execution_count": 19,
   "metadata": {},
   "outputs": [],
   "source": [
    "from simulation import Simulation\n",
    "from particle import Particle, Particles\n",
    "from edge import ExcitatorSin, MirrorEdge\n",
    "\n",
    "import numpy as np\n",
    "\n",
    "import os"
   ]
  },
  {
   "source": [
    "On définit un chemin pour la sauvegarde des simulations. On peut prendre le chemin d'accès contenant ce fichier à l'aide de `os.path` ou alors choisir n'importe quel chemin (existant)"
   ],
   "cell_type": "markdown",
   "metadata": {}
  },
  {
   "cell_type": "code",
   "execution_count": 20,
   "metadata": {},
   "outputs": [],
   "source": [
    "mypath = \"C:\\\\Users\\\\leog\\\\Desktop\\\\lg2021stage\\\\output\""
   ]
  },
  {
   "source": [
    "On va à présent définir les quantités pertinentes pour la simulation. \n",
    "\n",
    "On définit la longueur de la corde $ L $, la tension $ T $ en tout point, et la densité de la corde $ \\rho_0 $.\n",
    "\n",
    "Et on choisit le nombre de cellules $ n_x $ (`space_steps`) que composera la corde.\n",
    "\n",
    "On définit la célérité $ c $, puis notre distance entre chaque point tel que $ n_x \\Delta x = L $\n",
    "puis on choisit notre $ \\Delta t $ qui doit respecter $ c = \\frac{\\Delta x}{\\Delta t} $"
   ],
   "cell_type": "markdown",
   "metadata": {}
  },
  {
   "cell_type": "code",
   "execution_count": 21,
   "metadata": {},
   "outputs": [],
   "source": [
    "duration = 4.0 # duration of simulation [s]\n",
    "length = 5.0 # [m]\n",
    "tension = 1.0 # [N]\n",
    "density = 0.01 # [kg/m]\n",
    "space_steps = 1024 # string discretisation\n",
    "\n",
    "celerity = np.sqrt(tension/density)\n",
    "\n",
    "dx = length/(space_steps - 1)\n",
    "dt = dx/celerity\n",
    "time_steps = int(duration/dt)"
   ]
  },
  {
   "source": [
    "On définit le champ initial et la vitesse initial de la corde. On la représente par une liste où chaque élément correspond à la valeur du champ en la cellule considérée.\n",
    "\n",
    "Ici on choisit un champ nul ainsi qu'une dérivée nulle. On créé donc une liste contenant uniquement des zéros, de taille `space_steps`"
   ],
   "cell_type": "markdown",
   "metadata": {}
  },
  {
   "cell_type": "code",
   "execution_count": 22,
   "metadata": {},
   "outputs": [],
   "source": [
    "initial_field = [0.0]*space_steps\n",
    "initial_vel_field = [0.0]*space_steps"
   ]
  },
  {
   "source": [
    "A présent nous allons nous occuper des conditions aux bords de la corde. Nous allons utiliser les classes prévues à cet effet de notre module.\n",
    "\n",
    "Ici, nous allons créer un exitateur sinusoïdal (`ExcitatorSin`) au bout gauche, et un mirroir parfait (`MirrorEdge`) au bord droit. Se référer à la documentation, d'autres conditions existent."
   ],
   "cell_type": "markdown",
   "metadata": {}
  },
  {
   "cell_type": "code",
   "execution_count": 23,
   "metadata": {},
   "outputs": [],
   "source": [
    "signal_pulsation = 25.0*2.0*np.pi # [rad/s]\n",
    "edge_left = ExcitatorSin(dt, 0.01, signal_pulsation, 0.0)\n",
    "edge_right = MirrorEdge()"
   ]
  },
  {
   "source": [
    "Puis nous créons les particules individuellement à l'aide de la classe `Particle`. On donne en argument la position initiale de la particule (id de la cellule), sa vitesse initiale, sa masse $ m $, sa pulsation $ \\omega = \\sqrt{\\frac{K}{m}} $, un booléen (`True`) qui indique si elle est fixée sur la corde, et le nombre total de cellules que compose la corde.\n",
    "\n",
    "Pour finir, on rassemble toutes ces particules dans un objet `Particles`"
   ],
   "cell_type": "markdown",
   "metadata": {}
  },
  {
   "cell_type": "code",
   "execution_count": 24,
   "metadata": {},
   "outputs": [],
   "source": [
    "pos_a = 0.4\n",
    "cell_a = int(pos_a*space_steps)\n",
    "particle_a = Particle(cell_a, 0.0, 0.01, 2*np.pi, True, space_steps)\n",
    "\n",
    "pos_b = 0.6\n",
    "cell_b = int(pos_b*space_steps)\n",
    "particle_b = Particle(cell_b, 0.0, 0.02, 2*np.pi, True, space_steps)\n",
    "\n",
    "particles = Particles(particle_a, particle_b)"
   ]
  },
  {
   "source": [
    "On va maintenant initialiser la simulation avec la classe `Simulation`, en rentrant les paramètres que nous venons de définir. On oublie pas de `print` la simulation avant de la lancer, pour être sûr que tous nos paramètres nous conviennent"
   ],
   "cell_type": "markdown",
   "metadata": {}
  },
  {
   "cell_type": "code",
   "execution_count": 26,
   "metadata": {},
   "outputs": [
    {
     "output_type": "stream",
     "name": "stdout",
     "text": [
      "[SIMULATION]    Δt=0.00048828125s, Δx=0.0048828125m, time steps=8192, string steps (nb discretisation)=1024\n[STRING]    L=5.0m, T=1.0N, rho=0.0kg/m, c=10.0m/s ; 2 particles\n[PARTICLES]    ;0: m=0.01kg, omega=6.28rad/s;1: m=0.02kg, omega=6.28rad/s;\n"
     ]
    }
   ],
   "source": [
    "simu = Simulation(dt, time_steps, space_steps, length, density, tension, edge_left, edge_right, initial_field, initial_vel_field, particles)\n",
    "print(simu)"
   ]
  },
  {
   "source": [
    "On peut maintenant lancer la simulation. Le lancement prend en argument obligatoire le chemin pour sauvegarder la simulation, et un tas d'options (non exhaustif):\n",
    "* `file=True` génère un fichier texte contenant la valeur des champs à chaque instant dans un fichier, et la position en $ x $ des particules dans un autre (inutile si les particules sont fixes)\n",
    "* `anim=True` génère une animation vidéo de la simulation\n",
    "* `compress=True` permet de compresser le fichier .mp4 après sa création\n",
    "* `frameskip` permet de gérer le frameskip _pour la vidéo._ Si `frameskip=1`, toutes les frames sont enregistrées dans la vidéo. Si `frameskip=n` 1 frame sur `n` seront gardées.\n",
    "* `window_anim` permet de fenêtrer l'animation, pour se focaliser sur une zone qui nous intéresse. Si `window_anim=False` toute la corde sera représentée (équivalent à `(0.0, 1.0)`). Sinon, on met un tuple qui correspond à la fenêtre souhaitée (ex: `(0.0, 0.5)`)\n",
    "* `yscale` permet de rescale l'axe $ y $ de la corde. Par défaut, `yscale=5.0` (zoomé fois 5) \n",
    "\n",
    "Une fois la simulation terminée, la fonction `Simulation.run` renvoie le chemin des deux fichiers champ + particules (si créés)"
   ],
   "cell_type": "markdown",
   "metadata": {}
  },
  {
   "cell_type": "code",
   "execution_count": 27,
   "metadata": {},
   "outputs": [
    {
     "output_type": "stream",
     "name": "stdout",
     "text": [
      "[SIMULATION]    Δt=0.00048828125s, Δx=0.0048828125m, time steps=8192, string steps (nb discretisation)=1024\n",
      "[STRING]    L=5.0m, T=1.0N, rho=0.0kg/m, c=10.0m/s ; 2 particles\n",
      "[PARTICLES]    ;0: m=0.01kg, omega=6.28rad/s;1: m=0.02kg, omega=6.28rad/s;\n",
      "\n",
      "video output creation...\n",
      "video created successfully!\n"
     ]
    }
   ],
   "source": [
    "field_path, _ = simu.run(mypath, anim=True, file=True, compress=False)"
   ]
  },
  {
   "source": [
    "On peut maintenant procéder à une FFT sur les zones du champ pertinentes. Dans cet exemple, on peut faire une FFT avant la première masse, après la seconde masse, et une entre les deux. On va simplement utiliser la class `PostProcess` et sa fonction `fourier` qui va permettre de procéder à cette FFT. On lui donne en argument les fenêtres considérées "
   ],
   "cell_type": "markdown",
   "metadata": {}
  },
  {
   "cell_type": "code",
   "execution_count": null,
   "metadata": {},
   "outputs": [],
   "source": [
    "field_file = open(field_path, \"r\") # open the filed simulation file\n",
    "\n",
    "win1 = (0.0, 0.25)\n",
    "win2 = (0.35, 0.65)\n",
    "win3 = (0.75, 1.0)\n",
    "\n",
    "pp = PostProcess(field_file, log=True)\n",
    "pp.fourier(win1, win2, win3, frameskip=20, path=mypath) # makes the fourier analysis on the windows given"
   ]
  },
  {
   "source": [
    "Pour chaque fenêtre, on aura une animation de l'évolution de la FFT au fil du temps dans la fenêtre, et un spectrographe"
   ],
   "cell_type": "markdown",
   "metadata": {}
  }
 ]
}