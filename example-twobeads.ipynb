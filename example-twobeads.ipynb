{
 "metadata": {
  "language_info": {
   "codemirror_mode": {
    "name": "ipython",
    "version": 3
   },
   "file_extension": ".py",
   "mimetype": "text/x-python",
   "name": "python",
   "nbconvert_exporter": "python",
   "pygments_lexer": "ipython3",
   "version": 3
  },
  "orig_nbformat": 4
 },
 "nbformat": 4,
 "nbformat_minor": 2,
 "cells": [
  {
   "cell_type": "code",
   "execution_count": null,
   "metadata": {},
   "outputs": [],
   "source": [
    "from simulation import Simulation\n",
    "from particle import Particle, Particles\n",
    "from edge import ExcitatorSin, MirrorEdge\n",
    "\n",
    "import numpy as np"
   ]
  },
  {
   "cell_type": "code",
   "execution_count": null,
   "metadata": {},
   "outputs": [],
   "source": [
    "mypath = os.path.dirname(os.path.abspath(__file__))\n",
    "mypath = \"C:\\\\Users\\\\leog\\\\Desktop\\\\lg2021stage\\\\output\""
   ]
  },
  {
   "cell_type": "code",
   "execution_count": null,
   "metadata": {},
   "outputs": [],
   "source": [
    "duration = 2.0 # duration of simulation [s]\n",
    "length = 1.0 # [m]\n",
    "tension = 1.0 # [N]\n",
    "density = 0.01 # [kg/m]\n",
    "space_steps = 256 # string discretisation\n",
    "\n",
    "celerity = np.sqrt(tension/density)\n",
    "\n",
    "dx = length/space_steps\n",
    "dt = dx/celerity\n",
    "time_steps = int(duration/dt)"
   ]
  },
  {
   "cell_type": "code",
   "execution_count": null,
   "metadata": {},
   "outputs": [],
   "source": [
    "initial_field = [0.0]*space_steps\n",
    "initial_vel_field = [0.0]*space_steps"
   ]
  },
  {
   "cell_type": "code",
   "execution_count": null,
   "metadata": {},
   "outputs": [],
   "source": [
    "signal_pulsation = 10.0*2.0*np.pi*signal_freq # [rad/s]\n",
    "edge_left = ExcitatorSin(dt, 0.01, signal_pulsation, 0.0)\n",
    "edge_right = MirrorEdge()"
   ]
  },
  {
   "cell_type": "code",
   "execution_count": null,
   "metadata": {},
   "outputs": [],
   "source": [
    "particle_a = Particle(100, 0.0, 0.01, 2*np.pi, True, space_steps)\n",
    "particle_b = Particle(200, 0.0, 0.02, 2*np.pi, True, space_steps)\n",
    "particles = Particles(particle_a, particle_b)"
   ]
  },
  {
   "cell_type": "code",
   "execution_count": null,
   "metadata": {},
   "outputs": [],
   "source": [
    "simu = Simulation(dt, time_stemps, space_steps, length, density, tension, edge_left, edge_right, initial_field, initial_vel_field, particles)\n",
    "print(simu)"
   ]
  },
  {
   "cell_type": "code",
   "execution_count": null,
   "metadata": {},
   "outputs": [],
   "source": [
    "simu.run(path, anim=True, file=True, compress=False)"
   ]
  }
 ]
}