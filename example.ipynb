{
 "cells": [
  {
   "cell_type": "markdown",
   "metadata": {},
   "source": [
    "# Two beads on a string\n",
    "\n",
    "Nous allons dans cet exemple procéder à la démonstration la plus complète de la librairie `quantum-string`"
   ]
  },
  {
   "cell_type": "markdown",
   "metadata": {},
   "source": [
    "On commence par importer les librairies pertinentes"
   ]
  },
  {
   "cell_type": "code",
   "execution_count": 19,
   "metadata": {},
   "outputs": [],
   "source": [
    "from quantumstring.simulation import Simulation\n",
    "from quantumstring.particle import Particle, Particles\n",
    "from quantumstring.edge import ExcitatorSin, MirrorEdge\n",
    "\n",
    "import numpy as np\n",
    "\n",
    "import os"
   ]
  },
  {
   "cell_type": "markdown",
   "metadata": {},
   "source": [
    "On définit un chemin pour la sauvegarde des simulations. On peut prendre le chemin d'accès contenant ce fichier à l'aide de `os.path` ou alors choisir n'importe quel chemin (existant)"
   ]
  },
  {
   "cell_type": "code",
   "execution_count": 20,
   "metadata": {},
   "outputs": [],
   "source": [
    "mypath = \"choose\\\\your\\\\path\""
   ]
  },
  {
   "cell_type": "markdown",
   "metadata": {},
   "source": [
    "On va à présent définir les quantités pertinentes pour la simulation. \n",
    "\n",
    "On définit la longueur de la corde $ L $, la tension $ T $ en tout point, et la densité de la corde $ \\rho_0 $.\n",
    "\n",
    "Et on choisit le nombre de cellules $ n_x $ (`space_steps`) que composera la corde.\n",
    "\n",
    "On définit la célérité $ c $, puis notre distance entre chaque point tel que $ n_x \\Delta x = L $\n",
    "puis on choisit notre $ \\Delta t $ qui doit respecter $ c = \\frac{\\Delta x}{\\Delta t} $"
   ]
  },
  {
   "cell_type": "code",
   "execution_count": 21,
   "metadata": {},
   "outputs": [],
   "source": [
    "duration = 4.0 # duration of simulation [s]\n",
    "length = 5.0 # [m]\n",
    "tension = 1.0 # [N]\n",
    "density = 0.01 # [kg/m]\n",
    "space_steps = 1024 # string discretisation\n",
    "\n",
    "celerity = np.sqrt(tension/density)\n",
    "\n",
    "dx = length/space_steps\n",
    "dt = dx/celerity\n",
    "time_steps = int(duration/dt)"
   ]
  },
  {
   "cell_type": "markdown",
   "metadata": {},
   "source": [
    "On définit les deux instants initiaux de la corde. On la représente par une liste où chaque élément correspond à la valeur du champ en la cellule considérée.\n",
    "\n",
    "On souhaite avoir une corde au repos. On créé donc une liste contenant uniquement des zéros, de taille `space_steps`"
   ]
  },
  {
   "cell_type": "code",
   "execution_count": 22,
   "metadata": {},
   "outputs": [],
   "source": [
    "initial_field = [0.0]*space_steps\n",
    "initial_field_dt = [0.0]*space_steps"
   ]
  },
  {
   "cell_type": "markdown",
   "metadata": {},
   "source": [
    "A présent nous allons nous occuper des conditions aux bords de la corde. Nous allons utiliser les classes prévues à cet effet de notre module.\n",
    "\n",
    "Ici, nous allons créer un exitateur sinusoïdal (`ExcitatorSin`) au bout gauche, et un mirroir parfait (`MirrorEdge`) au bord droit. Se référer à la documentation, d'autres conditions existent."
   ]
  },
  {
   "cell_type": "code",
   "execution_count": 23,
   "metadata": {},
   "outputs": [],
   "source": [
    "signal_pulsation = 25.0*2.0*np.pi # [rad/s]\n",
    "edge_left = ExcitatorSin(dt, 0.01, signal_pulsation, 0.0)\n",
    "edge_right = MirrorEdge()"
   ]
  },
  {
   "cell_type": "markdown",
   "metadata": {},
   "source": [
    "Pour information, on peut sommer ou multiplier les excitateurs entre eux:"
   ]
  },
  {
   "cell_type": "code",
   "execution_count": null,
   "metadata": {},
   "outputs": [],
   "source": [
    "other_edge = edge_left*ExcitatorSin(dt, 0.01, signal_pulsation/4, 0.0)"
   ]
  },
  {
   "cell_type": "markdown",
   "metadata": {},
   "source": [
    "Puis nous créons les particules individuellement à l'aide de la classe `Particle`. On donne en argument la position initiale de la particule (id de la cellule), sa vitesse initiale, sa masse $ m $, sa pulsation $ \\omega = \\sqrt{\\frac{K}{m}} $, un booléen (`True`) qui indique si elle est fixée sur la corde, et le nombre total de cellules que compose la corde.\n",
    "\n",
    "Pour finir, on rassemble toutes ces particules dans un objet `Particles`"
   ]
  },
  {
   "cell_type": "code",
   "execution_count": 24,
   "metadata": {},
   "outputs": [],
   "source": [
    "pos_a = 0.4\n",
    "cell_a = int(pos_a*space_steps)\n",
    "particle_a = Particle(cell_a, 0.0, 0.01, 2*np.pi, True, space_steps, color=(0, 0, 255))\n",
    "\n",
    "pos_b = 0.6\n",
    "cell_b = int(pos_b*space_steps)\n",
    "particle_b = Particle(cell_b, 0.0, 0.02, 2*np.pi, True, space_steps, color=(255, 0, 0))\n",
    "\n",
    "particles = Particles(particle_a, particle_b)"
   ]
  },
  {
   "cell_type": "markdown",
   "metadata": {},
   "source": [
    "On va maintenant initialiser la simulation avec la classe `Simulation`, en rentrant les paramètres que nous venons de définir. On oublie pas de `print` la simulation avant de la lancer, pour être sûr que tous nos paramètres nous conviennent"
   ]
  },
  {
   "cell_type": "code",
   "execution_count": 26,
   "metadata": {},
   "outputs": [
    {
     "name": "stdout",
     "output_type": "stream",
     "text": [
      "[SIMULATION]    Δt=0.00048828125s, Δx=0.0048828125m, time steps=8192, string steps (nb discretisation)=1024\n",
      "[STRING]    L=5.0m, T=1.0N, rho=0.0kg/m, c=10.0m/s ; 2 particles\n",
      "[PARTICLES]    ;0: m=0.01kg, omega=6.28rad/s;1: m=0.02kg, omega=6.28rad/s;\n"
     ]
    }
   ],
   "source": [
    "simu = Simulation(dt, time_steps, space_steps, length, density, tension, edge_left, edge_right, initial_field, initial_field_dt, particles)\n",
    "print(simu)"
   ]
  },
  {
   "cell_type": "markdown",
   "metadata": {},
   "source": [
    "On peut maintenant lancer la simulation. Le lancement prend en argument obligatoire le chemin pour sauvegarder la simulation.\n",
    "Des fichiers textes de simulation vont être créés dans le répertoire donné en paramètre. Un fichier pour le champ, un pour la position horizontale des masselottes, un pour l'énergie de chaque cellule de la corde en fonction du temps.\n",
    "\n",
    "La ligne 0 de ces fichiers correspond à une entête. Ainsi la ligne i du fichier correspond au champ au pas de temps i-1.\n",
    "\n",
    "Une fois la simulation terminée, la fonction `Simulation.run` renvoie le chemin des fichiers créés (champ/particles/énergie)"
   ]
  },
  {
   "cell_type": "code",
   "execution_count": 27,
   "metadata": {},
   "outputs": [
    {
     "name": "stdout",
     "output_type": "stream",
     "text": [
      "[SIMULATION]    Δt=0.00048828125s, Δx=0.0048828125m, time steps=8192, string steps (nb discretisation)=1024\n",
      "[STRING]    L=5.0m, T=1.0N, rho=0.0kg/m, c=10.0m/s ; 2 particles\n",
      "[PARTICLES]    ;0: m=0.01kg, omega=6.28rad/s;1: m=0.02kg, omega=6.28rad/s;\n",
      "\n",
      "video output creation...\n",
      "video created successfully!\n"
     ]
    }
   ],
   "source": [
    "field_path, particles_path, energy_path = simu.run(mypath)"
   ]
  },
  {
   "cell_type": "markdown",
   "metadata": {},
   "source": [
    "On va maintenant procéder au post processing de la simulation. On instantie une classe `PostProcess`, en donnant en argument les fichiers textes de la simulation ouverts en lecture:"
   ]
  },
  {
   "cell_type": "code",
   "execution_count": null,
   "metadata": {},
   "outputs": [],
   "source": [
    "process = PostProcess(\n",
    "    open(field_path, \"r\"),\n",
    "    open(particles_path, \"r\"),\n",
    "    open(energy_path, \"r\"),\n",
    ")"
   ]
  },
  {
   "cell_type": "markdown",
   "metadata": {},
   "source": [
    "Grâce à la classe `PostProcess`, on peut générer:\n",
    "* Une vidéo de la simulation, fonction `anim`\n",
    "* Une visualisation de la simulation en 2D colormesh, fonction `plot2d`\n",
    "* Une visualisation de la simulation en 3D colormesh, fonction `plot3d`\n",
    "* Les déplacements $ z(t) $ des particules en fonction du temps, avec `plot_particles`\n",
    "* Des FFT sur des portions de fenêtre, avec `fourier`"
   ]
  },
  {
   "cell_type": "code",
   "execution_count": null,
   "metadata": {},
   "outputs": [],
   "source": [
    "process.anim(mypath, frameskip=5, yscale=5.0, compress=True)"
   ]
  },
  {
   "cell_type": "markdown",
   "metadata": {},
   "source": [
    "Pour chaque fenêtre, on aura une animation de l'évolution de la FFT au fil du temps dans la fenêtre, et un spectrographe"
   ]
  }
 ],
 "metadata": {
  "interpreter": {
   "hash": "eab5617646af697cc970854abaacd424487e47a225bcdad54106239d3bcc5cbd"
  },
  "kernelspec": {
   "display_name": "Python 3.8.2 64-bit",
   "name": "python3"
  },
  "language_info": {
   "codemirror_mode": {
    "name": "ipython",
    "version": 3
   },
   "file_extension": ".py",
   "mimetype": "text/x-python",
   "name": "python",
   "nbconvert_exporter": "python",
   "pygments_lexer": "ipython3",
   "version": "3.8.2"
  },
  "orig_nbformat": 4
 },
 "nbformat": 4,
 "nbformat_minor": 2
}